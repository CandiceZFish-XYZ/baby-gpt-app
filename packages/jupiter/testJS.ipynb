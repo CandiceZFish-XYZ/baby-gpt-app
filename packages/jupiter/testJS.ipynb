{
 "cells": [
  {
   "cell_type": "code",
   "execution_count": null,
   "metadata": {},
   "outputs": [],
   "source": [
    "%%script node\n",
    "console.log(\"hi\")"
   ]
  },
  {
   "cell_type": "code",
   "execution_count": null,
   "metadata": {},
   "outputs": [],
   "source": [
    "%%script node\n",
    "import { Configuration, OpenAIApi } from \"openai\";\n",
    "const configuration = new Configuration({\n",
    "  apiKey: \"sk-\",\n",
    "});\n",
    "const openai = new OpenAIApi(configuration);\n",
    "\n",
    "async function get_completion(prompt, model = \"gpt-3.5-turbo\") {\n",
    "  let messages = [{ role: \"user\", content: prompt }];\n",
    "  let response = await openai.createChatCompletion({\n",
    "    model: model,\n",
    "    messages: messages,\n",
    "    temperature: 0,\n",
    "  });\n",
    "  return response.data.choices[0].message;\n",
    "}\n",
    "\n",
    "const prompt = \"List three cute cat names.\";\n",
    "\n",
    "let response = get_completion(prompt);\n",
    "console.log(response);\n"
   ]
  }
 ],
 "metadata": {
  "kernelspec": {
   "display_name": "Python 3",
   "language": "python",
   "name": "python3"
  },
  "language_info": {
   "codemirror_mode": {
    "name": "ipython",
    "version": 3
   },
   "file_extension": ".py",
   "mimetype": "text/x-python",
   "name": "python",
   "nbconvert_exporter": "python",
   "pygments_lexer": "ipython3",
   "version": "3.11.2"
  },
  "orig_nbformat": 4
 },
 "nbformat": 4,
 "nbformat_minor": 2
}
